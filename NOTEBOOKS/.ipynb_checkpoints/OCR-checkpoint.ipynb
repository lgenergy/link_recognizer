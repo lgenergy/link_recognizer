{
 "cells": [
  {
   "cell_type": "code",
   "execution_count": 2,
   "metadata": {},
   "outputs": [
    {
     "name": "stdout",
     "output_type": "stream",
     "text": [
      "cv2 version: 3.4.3\n",
      "PIL version: 1.1.7\n",
      "pytesseract version: 4.0.0-rc3.20181014\n"
     ]
    }
   ],
   "source": [
    "import PIL\n",
    "import cv2\n",
    "import pytesseract\n",
    "\n",
    "pytesseract.pytesseract.tesseract_cmd = 'C:/Program Files (x86)/Tesseract-OCR/tesseract'\n",
    "\n",
    "print (\"cv2 version: %s\\nPIL version: %s\\npytesseract version: %s\" % (cv2.__version__,PIL.VERSION,pytesseract.get_tesseract_version()))\n",
    "\n",
    "# ---- Gergo -------\n",
    "# cv2 version: 3.4.3\n",
    "# PIL version: 1.1.7\n",
    "# pytesseract version: 4.0.0-rc3.20181014"
   ]
  },
  {
   "cell_type": "code",
   "execution_count": 1,
   "metadata": {},
   "outputs": [],
   "source": [
    "import pytesseract\n",
    "\n",
    "pytesseract.pytesseract.tesseract_cmd = 'C:/Program Files (x86)/Tesseract-OCR/tesseract'\n",
    "\n",
    "TESSDATA_PREFIX='C:\\Program Files (x86)\\Tesseract-OCR'"
   ]
  },
  {
   "cell_type": "code",
   "execution_count": 3,
   "metadata": {},
   "outputs": [
    {
     "name": "stdout",
     "output_type": "stream",
     "text": [
      "Overwriting orc.py\n"
     ]
    }
   ],
   "source": [
    "%%writefile orc.py\n",
    "\n",
    "# USAGE\n",
    "# python ocr.py --image images/example_01.png \n",
    "# python ocr.py --image images/example_02.png  --preprocess blur\n",
    "\n",
    "# import the necessary packages\n",
    "from PIL import Image\n",
    "import pytesseract\n",
    "import argparse\n",
    "import cv2\n",
    "import os\n",
    "\n",
    "# construct the argument parse and parse the arguments\n",
    "ap = argparse.ArgumentParser()\n",
    "ap.add_argument(\"-i\", \"--image\", required=True,\n",
    "    help=\"path to input image to be OCR'd\")\n",
    "ap.add_argument(\"-p\", \"--preprocess\", type=str, default=\"thresh\",\n",
    "    help=\"type of preprocessing to be done\")\n",
    "args = vars(ap.parse_args())\n",
    "\n",
    "# load the example image and convert it to grayscale\n",
    "image = cv2.imread(args[\"image\"])\n",
    "gray = cv2.cvtColor(image, cv2.COLOR_BGR2GRAY)\n",
    "\n",
    "cv2.imshow(\"Image\", gray)\n",
    "\n",
    "# check to see if we should apply thresholding to preprocess the\n",
    "# image\n",
    "if args[\"preprocess\"] == \"thresh\":\n",
    "    gray = cv2.threshold(gray, 0, 255,\n",
    "        cv2.THRESH_BINARY | cv2.THRESH_OTSU)[1]\n",
    "\n",
    "# make a check to see if median blurring should be done to remove\n",
    "# noise\n",
    "elif args[\"preprocess\"] == \"blur\":\n",
    "    gray = cv2.medianBlur(gray, 3)\n",
    "\n",
    "# write the grayscale image to disk as a temporary file so we can\n",
    "# apply OCR to it\n",
    "filename = \"{}.png\".format(os.getpid())\n",
    "cv2.imwrite(filename, gray)\n",
    "\n",
    "# load the image as a PIL/Pillow image, apply OCR, and then delete\n",
    "# the temporary file\n",
    "text = pytesseract.image_to_string(Image.open(filename))\n",
    "os.remove(filename)\n",
    "print(text)\n",
    "\n",
    "# show the output images\n",
    "# cv2.imshow(\"Image\", image)\n",
    "cv2.imshow(\"Output\", gray)\n",
    "cv2.waitKey(0)"
   ]
  },
  {
   "cell_type": "code",
   "execution_count": 4,
   "metadata": {},
   "outputs": [
    {
     "name": "stdout",
     "output_type": "stream",
     "text": [
      "@ Nem biztonsdgos | www.imagemagick.org/script/develop.php#python\n"
     ]
    }
   ],
   "source": [
    "%run orc.py --image images/test2.jpg"
   ]
  },
  {
   "cell_type": "code",
   "execution_count": 5,
   "metadata": {},
   "outputs": [],
   "source": [
    "%less orc.py"
   ]
  }
 ],
 "metadata": {
  "kernelspec": {
   "display_name": "Python 3",
   "language": "python",
   "name": "python3"
  }
 },
 "nbformat": 4,
 "nbformat_minor": 2
}
